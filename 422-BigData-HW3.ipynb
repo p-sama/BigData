{
 "cells": [
  {
   "cell_type": "markdown",
   "metadata": {},
   "source": [
    "# 422 - Big Data - Assignment 3 - Digit Classification"
   ]
  },
  {
   "cell_type": "markdown",
   "metadata": {
    "toc": true
   },
   "source": [
    "<h1>Table of Contents<span class=\"tocSkip\"></span></h1>\n",
    "<div class=\"toc\"><ul class=\"toc-item\"><li><span><a href=\"#Overview\" data-toc-modified-id=\"Overview-1\"><span class=\"toc-item-num\">1&nbsp;&nbsp;</span>Overview</a></span></li><li><span><a href=\"#Importing-libraries-and-Data\" data-toc-modified-id=\"Importing-libraries-and-Data-2\"><span class=\"toc-item-num\">2&nbsp;&nbsp;</span>Importing libraries and Data</a></span></li><li><span><a href=\"#Exploring-the-data\" data-toc-modified-id=\"Exploring-the-data-3\"><span class=\"toc-item-num\">3&nbsp;&nbsp;</span>Exploring the data</a></span></li><li><span><a href=\"#Training-the-model\" data-toc-modified-id=\"Training-the-model-4\"><span class=\"toc-item-num\">4&nbsp;&nbsp;</span>Training the model</a></span></li><li><span><a href=\"#Predicting-on-the-test-data\" data-toc-modified-id=\"Predicting-on-the-test-data-5\"><span class=\"toc-item-num\">5&nbsp;&nbsp;</span>Predicting on the test data</a></span></li></ul></div>"
   ]
  },
  {
   "cell_type": "markdown",
   "metadata": {},
   "source": [
    "### Overview"
   ]
  },
  {
   "cell_type": "markdown",
   "metadata": {},
   "source": [
    "Aim - To classify hand-written digits from zero through nine, using Multilayer Perceptron Algorithm (MLP CLassifier from scikit learn).\n",
    "\n",
    "Dataset can be found online at - http://yann.lecun.com/exdb/mnist/\n",
    "\n",
    "1) Run simple ML on this to recognize digits 0-9 (you can use their technique or any other technique you’d like)\n",
    "\n",
    "2) This should include training phase and model usage (classification of 10K test set)\n",
    "\n",
    "3) Understand characteristics of the hardware you’re running this on\n",
    "\n",
    "4) Time execution and measure memory usage of both training phase and model usage phase\n",
    "\n",
    "5) Estimate (in words and numbers, show work) time (and resources) required to handle a training set of 60B images and a test set of 10B"
   ]
  },
  {
   "cell_type": "markdown",
   "metadata": {},
   "source": [
    "### Importing libraries and Data"
   ]
  },
  {
   "cell_type": "code",
   "execution_count": 42,
   "metadata": {
    "collapsed": true
   },
   "outputs": [],
   "source": [
    "# For data loading and manipulation\n",
    "import numpy as np\n",
    "import pandas as pd\n",
    "\n",
    "# For Visualization/EDA\n",
    "import seaborn as sns\n",
    "sns.set(style=\"whitegrid\", font_scale=1.5)\n",
    "import matplotlib.pyplot as plt\n",
    "%matplotlib inline\n",
    "\n",
    "# For machine learning\n",
    "from sklearn.model_selection import train_test_split\n",
    "from sklearn.neural_network import MLPClassifier\n",
    "from sklearn import metrics\n",
    "from sklearn.metrics import classification_report\n",
    "from sklearn.metrics import confusion_matrix"
   ]
  },
  {
   "cell_type": "code",
   "execution_count": 33,
   "metadata": {},
   "outputs": [
    {
     "data": {
      "text/html": [
       "<div>\n",
       "<style>\n",
       "    .dataframe thead tr:only-child th {\n",
       "        text-align: right;\n",
       "    }\n",
       "\n",
       "    .dataframe thead th {\n",
       "        text-align: left;\n",
       "    }\n",
       "\n",
       "    .dataframe tbody tr th {\n",
       "        vertical-align: top;\n",
       "    }\n",
       "</style>\n",
       "<table border=\"1\" class=\"dataframe\">\n",
       "  <thead>\n",
       "    <tr style=\"text-align: right;\">\n",
       "      <th></th>\n",
       "      <th>label</th>\n",
       "      <th>p1</th>\n",
       "      <th>p2</th>\n",
       "      <th>p3</th>\n",
       "      <th>p4</th>\n",
       "      <th>p5</th>\n",
       "      <th>p6</th>\n",
       "      <th>p7</th>\n",
       "      <th>p8</th>\n",
       "      <th>p9</th>\n",
       "      <th>...</th>\n",
       "      <th>p775</th>\n",
       "      <th>p776</th>\n",
       "      <th>p777</th>\n",
       "      <th>p778</th>\n",
       "      <th>p779</th>\n",
       "      <th>p780</th>\n",
       "      <th>p781</th>\n",
       "      <th>p782</th>\n",
       "      <th>p783</th>\n",
       "      <th>p784</th>\n",
       "    </tr>\n",
       "  </thead>\n",
       "  <tbody>\n",
       "    <tr>\n",
       "      <th>0</th>\n",
       "      <td>5</td>\n",
       "      <td>0</td>\n",
       "      <td>0</td>\n",
       "      <td>0</td>\n",
       "      <td>0</td>\n",
       "      <td>0</td>\n",
       "      <td>0</td>\n",
       "      <td>0</td>\n",
       "      <td>0</td>\n",
       "      <td>0</td>\n",
       "      <td>...</td>\n",
       "      <td>0</td>\n",
       "      <td>0</td>\n",
       "      <td>0</td>\n",
       "      <td>0</td>\n",
       "      <td>0</td>\n",
       "      <td>0</td>\n",
       "      <td>0</td>\n",
       "      <td>0</td>\n",
       "      <td>0</td>\n",
       "      <td>0</td>\n",
       "    </tr>\n",
       "    <tr>\n",
       "      <th>1</th>\n",
       "      <td>0</td>\n",
       "      <td>0</td>\n",
       "      <td>0</td>\n",
       "      <td>0</td>\n",
       "      <td>0</td>\n",
       "      <td>0</td>\n",
       "      <td>0</td>\n",
       "      <td>0</td>\n",
       "      <td>0</td>\n",
       "      <td>0</td>\n",
       "      <td>...</td>\n",
       "      <td>0</td>\n",
       "      <td>0</td>\n",
       "      <td>0</td>\n",
       "      <td>0</td>\n",
       "      <td>0</td>\n",
       "      <td>0</td>\n",
       "      <td>0</td>\n",
       "      <td>0</td>\n",
       "      <td>0</td>\n",
       "      <td>0</td>\n",
       "    </tr>\n",
       "    <tr>\n",
       "      <th>2</th>\n",
       "      <td>4</td>\n",
       "      <td>0</td>\n",
       "      <td>0</td>\n",
       "      <td>0</td>\n",
       "      <td>0</td>\n",
       "      <td>0</td>\n",
       "      <td>0</td>\n",
       "      <td>0</td>\n",
       "      <td>0</td>\n",
       "      <td>0</td>\n",
       "      <td>...</td>\n",
       "      <td>0</td>\n",
       "      <td>0</td>\n",
       "      <td>0</td>\n",
       "      <td>0</td>\n",
       "      <td>0</td>\n",
       "      <td>0</td>\n",
       "      <td>0</td>\n",
       "      <td>0</td>\n",
       "      <td>0</td>\n",
       "      <td>0</td>\n",
       "    </tr>\n",
       "    <tr>\n",
       "      <th>3</th>\n",
       "      <td>1</td>\n",
       "      <td>0</td>\n",
       "      <td>0</td>\n",
       "      <td>0</td>\n",
       "      <td>0</td>\n",
       "      <td>0</td>\n",
       "      <td>0</td>\n",
       "      <td>0</td>\n",
       "      <td>0</td>\n",
       "      <td>0</td>\n",
       "      <td>...</td>\n",
       "      <td>0</td>\n",
       "      <td>0</td>\n",
       "      <td>0</td>\n",
       "      <td>0</td>\n",
       "      <td>0</td>\n",
       "      <td>0</td>\n",
       "      <td>0</td>\n",
       "      <td>0</td>\n",
       "      <td>0</td>\n",
       "      <td>0</td>\n",
       "    </tr>\n",
       "    <tr>\n",
       "      <th>4</th>\n",
       "      <td>9</td>\n",
       "      <td>0</td>\n",
       "      <td>0</td>\n",
       "      <td>0</td>\n",
       "      <td>0</td>\n",
       "      <td>0</td>\n",
       "      <td>0</td>\n",
       "      <td>0</td>\n",
       "      <td>0</td>\n",
       "      <td>0</td>\n",
       "      <td>...</td>\n",
       "      <td>0</td>\n",
       "      <td>0</td>\n",
       "      <td>0</td>\n",
       "      <td>0</td>\n",
       "      <td>0</td>\n",
       "      <td>0</td>\n",
       "      <td>0</td>\n",
       "      <td>0</td>\n",
       "      <td>0</td>\n",
       "      <td>0</td>\n",
       "    </tr>\n",
       "  </tbody>\n",
       "</table>\n",
       "<p>5 rows × 785 columns</p>\n",
       "</div>"
      ],
      "text/plain": [
       "   label  p1  p2  p3  p4  p5  p6  p7  p8  p9  ...   p775  p776  p777  p778  \\\n",
       "0      5   0   0   0   0   0   0   0   0   0  ...      0     0     0     0   \n",
       "1      0   0   0   0   0   0   0   0   0   0  ...      0     0     0     0   \n",
       "2      4   0   0   0   0   0   0   0   0   0  ...      0     0     0     0   \n",
       "3      1   0   0   0   0   0   0   0   0   0  ...      0     0     0     0   \n",
       "4      9   0   0   0   0   0   0   0   0   0  ...      0     0     0     0   \n",
       "\n",
       "   p779  p780  p781  p782  p783  p784  \n",
       "0     0     0     0     0     0     0  \n",
       "1     0     0     0     0     0     0  \n",
       "2     0     0     0     0     0     0  \n",
       "3     0     0     0     0     0     0  \n",
       "4     0     0     0     0     0     0  \n",
       "\n",
       "[5 rows x 785 columns]"
      ]
     },
     "execution_count": 33,
     "metadata": {},
     "output_type": "execute_result"
    }
   ],
   "source": [
    "train_data = pd.read_csv(\"mnist_train.csv\",header=None,\n",
    "                         names=['label','p1','p2','p3','p4','p5','p6','p7','p8','p9','p10','p11','p12','p13','p14','p15','p16','p17','p18','p19','p20','p21','p22','p23','p24','p25','p26','p27','p28','p29','p30','p31','p32','p33','p34','p35','p36','p37','p38','p39','p40','p41','p42','p43','p44','p45','p46','p47','p48','p49','p50','p51','p52','p53','p54','p55','p56','p57','p58','p59','p60','p61','p62','p63','p64','p65','p66','p67','p68','p69','p70','p71','p72','p73','p74','p75','p76','p77','p78','p79','p80','p81','p82','p83','p84','p85','p86','p87','p88','p89','p90','p91','p92','p93','p94','p95','p96','p97','p98','p99','p100','p101','p102','p103','p104','p105','p106','p107','p108','p109','p110','p111','p112','p113','p114','p115','p116','p117','p118','p119','p120','p121','p122','p123','p124','p125','p126','p127','p128','p129','p130','p131','p132','p133','p134','p135','p136','p137','p138','p139','p140','p141','p142','p143','p144','p145','p146','p147','p148','p149','p150','p151','p152','p153','p154','p155','p156','p157','p158','p159','p160','p161','p162','p163','p164','p165','p166','p167','p168','p169','p170','p171','p172','p173','p174','p175','p176','p177','p178','p179','p180','p181','p182','p183','p184','p185','p186','p187','p188','p189','p190','p191','p192','p193','p194','p195','p196','p197','p198','p199','p200','p201','p202','p203','p204','p205','p206','p207','p208','p209','p210','p211','p212','p213','p214','p215','p216','p217','p218','p219','p220','p221','p222','p223','p224','p225','p226','p227','p228','p229','p230','p231','p232','p233','p234','p235','p236','p237','p238','p239','p240','p241','p242','p243','p244','p245','p246','p247','p248','p249','p250','p251','p252','p253','p254','p255','p256','p257','p258','p259','p260','p261','p262','p263','p264','p265','p266','p267','p268','p269','p270','p271','p272','p273','p274','p275','p276','p277','p278','p279','p280','p281','p282','p283','p284','p285','p286','p287','p288','p289','p290','p291','p292','p293','p294','p295','p296','p297','p298','p299','p300','p301','p302','p303','p304','p305','p306','p307','p308','p309','p310','p311','p312','p313','p314','p315','p316','p317','p318','p319','p320','p321','p322','p323','p324','p325','p326','p327','p328','p329','p330','p331','p332','p333','p334','p335','p336','p337','p338','p339','p340','p341','p342','p343','p344','p345','p346','p347','p348','p349','p350','p351','p352','p353','p354','p355','p356','p357','p358','p359','p360','p361','p362','p363','p364','p365','p366','p367','p368','p369','p370','p371','p372','p373','p374','p375','p376','p377','p378','p379','p380','p381','p382','p383','p384','p385','p386','p387','p388','p389','p390','p391','p392','p393','p394','p395','p396','p397','p398','p399','p400','p401','p402','p403','p404','p405','p406','p407','p408','p409','p410','p411','p412','p413','p414','p415','p416','p417','p418','p419','p420','p421','p422','p423','p424','p425','p426','p427','p428','p429','p430','p431','p432','p433','p434','p435','p436','p437','p438','p439','p440','p441','p442','p443','p444','p445','p446','p447','p448','p449','p450','p451','p452','p453','p454','p455','p456','p457','p458','p459','p460','p461','p462','p463','p464','p465','p466','p467','p468','p469','p470','p471','p472','p473','p474','p475','p476','p477','p478','p479','p480','p481','p482','p483','p484','p485','p486','p487','p488','p489','p490','p491','p492','p493','p494','p495','p496','p497','p498','p499','p500','p501','p502','p503','p504','p505','p506','p507','p508','p509','p510','p511','p512','p513','p514','p515','p516','p517','p518','p519','p520','p521','p522','p523','p524','p525','p526','p527','p528','p529','p530','p531','p532','p533','p534','p535','p536','p537','p538','p539','p540','p541','p542','p543','p544','p545','p546','p547','p548','p549','p550','p551','p552','p553','p554','p555','p556','p557','p558','p559','p560','p561','p562','p563','p564','p565','p566','p567','p568','p569','p570','p571','p572','p573','p574','p575','p576','p577','p578','p579','p580','p581','p582','p583','p584','p585','p586','p587','p588','p589','p590','p591','p592','p593','p594','p595','p596','p597','p598','p599','p600','p601','p602','p603','p604','p605','p606','p607','p608','p609','p610','p611','p612','p613','p614','p615','p616','p617','p618','p619','p620','p621','p622','p623','p624','p625','p626','p627','p628','p629','p630','p631','p632','p633','p634','p635','p636','p637','p638','p639','p640','p641','p642','p643','p644','p645','p646','p647','p648','p649','p650','p651','p652','p653','p654','p655','p656','p657','p658','p659','p660','p661','p662','p663','p664','p665','p666','p667','p668','p669','p670','p671','p672','p673','p674','p675','p676','p677','p678','p679','p680','p681','p682','p683','p684','p685','p686','p687','p688','p689','p690','p691','p692','p693','p694','p695','p696','p697','p698','p699','p700','p701','p702','p703','p704','p705','p706','p707','p708','p709','p710','p711','p712','p713','p714','p715','p716','p717','p718','p719','p720','p721','p722','p723','p724','p725','p726','p727','p728','p729','p730','p731','p732','p733','p734','p735','p736','p737','p738','p739','p740','p741','p742','p743','p744','p745','p746','p747','p748','p749','p750','p751','p752','p753','p754','p755','p756','p757','p758','p759','p760','p761','p762','p763','p764','p765','p766','p767','p768','p769','p770',\n",
    "                                'p771','p772','p773','p774','p775','p776','p777','p778','p779','p780','p781','p782','p783','p784'])\n",
    "train_data.head()"
   ]
  },
  {
   "cell_type": "code",
   "execution_count": 34,
   "metadata": {},
   "outputs": [
    {
     "data": {
      "text/html": [
       "<div>\n",
       "<style>\n",
       "    .dataframe thead tr:only-child th {\n",
       "        text-align: right;\n",
       "    }\n",
       "\n",
       "    .dataframe thead th {\n",
       "        text-align: left;\n",
       "    }\n",
       "\n",
       "    .dataframe tbody tr th {\n",
       "        vertical-align: top;\n",
       "    }\n",
       "</style>\n",
       "<table border=\"1\" class=\"dataframe\">\n",
       "  <thead>\n",
       "    <tr style=\"text-align: right;\">\n",
       "      <th></th>\n",
       "      <th>label</th>\n",
       "      <th>p1</th>\n",
       "      <th>p2</th>\n",
       "      <th>p3</th>\n",
       "      <th>p4</th>\n",
       "      <th>p5</th>\n",
       "      <th>p6</th>\n",
       "      <th>p7</th>\n",
       "      <th>p8</th>\n",
       "      <th>p9</th>\n",
       "      <th>...</th>\n",
       "      <th>p775</th>\n",
       "      <th>p776</th>\n",
       "      <th>p777</th>\n",
       "      <th>p778</th>\n",
       "      <th>p779</th>\n",
       "      <th>p780</th>\n",
       "      <th>p781</th>\n",
       "      <th>p782</th>\n",
       "      <th>p783</th>\n",
       "      <th>p784</th>\n",
       "    </tr>\n",
       "  </thead>\n",
       "  <tbody>\n",
       "    <tr>\n",
       "      <th>0</th>\n",
       "      <td>7</td>\n",
       "      <td>0</td>\n",
       "      <td>0</td>\n",
       "      <td>0</td>\n",
       "      <td>0</td>\n",
       "      <td>0</td>\n",
       "      <td>0</td>\n",
       "      <td>0</td>\n",
       "      <td>0</td>\n",
       "      <td>0</td>\n",
       "      <td>...</td>\n",
       "      <td>0</td>\n",
       "      <td>0</td>\n",
       "      <td>0</td>\n",
       "      <td>0</td>\n",
       "      <td>0</td>\n",
       "      <td>0</td>\n",
       "      <td>0</td>\n",
       "      <td>0</td>\n",
       "      <td>0</td>\n",
       "      <td>0</td>\n",
       "    </tr>\n",
       "    <tr>\n",
       "      <th>1</th>\n",
       "      <td>2</td>\n",
       "      <td>0</td>\n",
       "      <td>0</td>\n",
       "      <td>0</td>\n",
       "      <td>0</td>\n",
       "      <td>0</td>\n",
       "      <td>0</td>\n",
       "      <td>0</td>\n",
       "      <td>0</td>\n",
       "      <td>0</td>\n",
       "      <td>...</td>\n",
       "      <td>0</td>\n",
       "      <td>0</td>\n",
       "      <td>0</td>\n",
       "      <td>0</td>\n",
       "      <td>0</td>\n",
       "      <td>0</td>\n",
       "      <td>0</td>\n",
       "      <td>0</td>\n",
       "      <td>0</td>\n",
       "      <td>0</td>\n",
       "    </tr>\n",
       "    <tr>\n",
       "      <th>2</th>\n",
       "      <td>1</td>\n",
       "      <td>0</td>\n",
       "      <td>0</td>\n",
       "      <td>0</td>\n",
       "      <td>0</td>\n",
       "      <td>0</td>\n",
       "      <td>0</td>\n",
       "      <td>0</td>\n",
       "      <td>0</td>\n",
       "      <td>0</td>\n",
       "      <td>...</td>\n",
       "      <td>0</td>\n",
       "      <td>0</td>\n",
       "      <td>0</td>\n",
       "      <td>0</td>\n",
       "      <td>0</td>\n",
       "      <td>0</td>\n",
       "      <td>0</td>\n",
       "      <td>0</td>\n",
       "      <td>0</td>\n",
       "      <td>0</td>\n",
       "    </tr>\n",
       "    <tr>\n",
       "      <th>3</th>\n",
       "      <td>0</td>\n",
       "      <td>0</td>\n",
       "      <td>0</td>\n",
       "      <td>0</td>\n",
       "      <td>0</td>\n",
       "      <td>0</td>\n",
       "      <td>0</td>\n",
       "      <td>0</td>\n",
       "      <td>0</td>\n",
       "      <td>0</td>\n",
       "      <td>...</td>\n",
       "      <td>0</td>\n",
       "      <td>0</td>\n",
       "      <td>0</td>\n",
       "      <td>0</td>\n",
       "      <td>0</td>\n",
       "      <td>0</td>\n",
       "      <td>0</td>\n",
       "      <td>0</td>\n",
       "      <td>0</td>\n",
       "      <td>0</td>\n",
       "    </tr>\n",
       "    <tr>\n",
       "      <th>4</th>\n",
       "      <td>4</td>\n",
       "      <td>0</td>\n",
       "      <td>0</td>\n",
       "      <td>0</td>\n",
       "      <td>0</td>\n",
       "      <td>0</td>\n",
       "      <td>0</td>\n",
       "      <td>0</td>\n",
       "      <td>0</td>\n",
       "      <td>0</td>\n",
       "      <td>...</td>\n",
       "      <td>0</td>\n",
       "      <td>0</td>\n",
       "      <td>0</td>\n",
       "      <td>0</td>\n",
       "      <td>0</td>\n",
       "      <td>0</td>\n",
       "      <td>0</td>\n",
       "      <td>0</td>\n",
       "      <td>0</td>\n",
       "      <td>0</td>\n",
       "    </tr>\n",
       "  </tbody>\n",
       "</table>\n",
       "<p>5 rows × 785 columns</p>\n",
       "</div>"
      ],
      "text/plain": [
       "   label  p1  p2  p3  p4  p5  p6  p7  p8  p9  ...   p775  p776  p777  p778  \\\n",
       "0      7   0   0   0   0   0   0   0   0   0  ...      0     0     0     0   \n",
       "1      2   0   0   0   0   0   0   0   0   0  ...      0     0     0     0   \n",
       "2      1   0   0   0   0   0   0   0   0   0  ...      0     0     0     0   \n",
       "3      0   0   0   0   0   0   0   0   0   0  ...      0     0     0     0   \n",
       "4      4   0   0   0   0   0   0   0   0   0  ...      0     0     0     0   \n",
       "\n",
       "   p779  p780  p781  p782  p783  p784  \n",
       "0     0     0     0     0     0     0  \n",
       "1     0     0     0     0     0     0  \n",
       "2     0     0     0     0     0     0  \n",
       "3     0     0     0     0     0     0  \n",
       "4     0     0     0     0     0     0  \n",
       "\n",
       "[5 rows x 785 columns]"
      ]
     },
     "execution_count": 34,
     "metadata": {},
     "output_type": "execute_result"
    }
   ],
   "source": [
    "test_data = pd.read_csv(\"mnist_test.csv\",header=None,\n",
    "                         names=['label','p1','p2','p3','p4','p5','p6','p7','p8','p9','p10','p11','p12','p13','p14','p15','p16','p17','p18','p19','p20','p21','p22','p23','p24','p25','p26','p27','p28','p29','p30','p31','p32','p33','p34','p35','p36','p37','p38','p39','p40','p41','p42','p43','p44','p45','p46','p47','p48','p49','p50','p51','p52','p53','p54','p55','p56','p57','p58','p59','p60','p61','p62','p63','p64','p65','p66','p67','p68','p69','p70','p71','p72','p73','p74','p75','p76','p77','p78','p79','p80','p81','p82','p83','p84','p85','p86','p87','p88','p89','p90','p91','p92','p93','p94','p95','p96','p97','p98','p99','p100','p101','p102','p103','p104','p105','p106','p107','p108','p109','p110','p111','p112','p113','p114','p115','p116','p117','p118','p119','p120','p121','p122','p123','p124','p125','p126','p127','p128','p129','p130','p131','p132','p133','p134','p135','p136','p137','p138','p139','p140','p141','p142','p143','p144','p145','p146','p147','p148','p149','p150','p151','p152','p153','p154','p155','p156','p157','p158','p159','p160','p161','p162','p163','p164','p165','p166','p167','p168','p169','p170','p171','p172','p173','p174','p175','p176','p177','p178','p179','p180','p181','p182','p183','p184','p185','p186','p187','p188','p189','p190','p191','p192','p193','p194','p195','p196','p197','p198','p199','p200','p201','p202','p203','p204','p205','p206','p207','p208','p209','p210','p211','p212','p213','p214','p215','p216','p217','p218','p219','p220','p221','p222','p223','p224','p225','p226','p227','p228','p229','p230','p231','p232','p233','p234','p235','p236','p237','p238','p239','p240','p241','p242','p243','p244','p245','p246','p247','p248','p249','p250','p251','p252','p253','p254','p255','p256','p257','p258','p259','p260','p261','p262','p263','p264','p265','p266','p267','p268','p269','p270','p271','p272','p273','p274','p275','p276','p277','p278','p279','p280','p281','p282','p283','p284','p285','p286','p287','p288','p289','p290','p291','p292','p293','p294','p295','p296','p297','p298','p299','p300','p301','p302','p303','p304','p305','p306','p307','p308','p309','p310','p311','p312','p313','p314','p315','p316','p317','p318','p319','p320','p321','p322','p323','p324','p325','p326','p327','p328','p329','p330','p331','p332','p333','p334','p335','p336','p337','p338','p339','p340','p341','p342','p343','p344','p345','p346','p347','p348','p349','p350','p351','p352','p353','p354','p355','p356','p357','p358','p359','p360','p361','p362','p363','p364','p365','p366','p367','p368','p369','p370','p371','p372','p373','p374','p375','p376','p377','p378','p379','p380','p381','p382','p383','p384','p385','p386','p387','p388','p389','p390','p391','p392','p393','p394','p395','p396','p397','p398','p399','p400','p401','p402','p403','p404','p405','p406','p407','p408','p409','p410','p411','p412','p413','p414','p415','p416','p417','p418','p419','p420','p421','p422','p423','p424','p425','p426','p427','p428','p429','p430','p431','p432','p433','p434','p435','p436','p437','p438','p439','p440','p441','p442','p443','p444','p445','p446','p447','p448','p449','p450','p451','p452','p453','p454','p455','p456','p457','p458','p459','p460','p461','p462','p463','p464','p465','p466','p467','p468','p469','p470','p471','p472','p473','p474','p475','p476','p477','p478','p479','p480','p481','p482','p483','p484','p485','p486','p487','p488','p489','p490','p491','p492','p493','p494','p495','p496','p497','p498','p499','p500','p501','p502','p503','p504','p505','p506','p507','p508','p509','p510','p511','p512','p513','p514','p515','p516','p517','p518','p519','p520','p521','p522','p523','p524','p525','p526','p527','p528','p529','p530','p531','p532','p533','p534','p535','p536','p537','p538','p539','p540','p541','p542','p543','p544','p545','p546','p547','p548','p549','p550','p551','p552','p553','p554','p555','p556','p557','p558','p559','p560','p561','p562','p563','p564','p565','p566','p567','p568','p569','p570','p571','p572','p573','p574','p575','p576','p577','p578','p579','p580','p581','p582','p583','p584','p585','p586','p587','p588','p589','p590','p591','p592','p593','p594','p595','p596','p597','p598','p599','p600','p601','p602','p603','p604','p605','p606','p607','p608','p609','p610','p611','p612','p613','p614','p615','p616','p617','p618','p619','p620','p621','p622','p623','p624','p625','p626','p627','p628','p629','p630','p631','p632','p633','p634','p635','p636','p637','p638','p639','p640','p641','p642','p643','p644','p645','p646','p647','p648','p649','p650','p651','p652','p653','p654','p655','p656','p657','p658','p659','p660','p661','p662','p663','p664','p665','p666','p667','p668','p669','p670','p671','p672','p673','p674','p675','p676','p677','p678','p679','p680','p681','p682','p683','p684','p685','p686','p687','p688','p689','p690','p691','p692','p693','p694','p695','p696','p697','p698','p699','p700','p701','p702','p703','p704','p705','p706','p707','p708','p709','p710','p711','p712','p713','p714','p715','p716','p717','p718','p719','p720','p721','p722','p723','p724','p725','p726','p727','p728','p729','p730','p731','p732','p733','p734','p735','p736','p737','p738','p739','p740','p741','p742','p743','p744','p745','p746','p747','p748','p749','p750','p751','p752','p753','p754','p755','p756','p757','p758','p759','p760','p761','p762','p763','p764','p765','p766','p767','p768','p769','p770',\n",
    "                                'p771','p772','p773','p774','p775','p776','p777','p778','p779','p780','p781','p782','p783','p784'])\n",
    "test_data.head()"
   ]
  },
  {
   "cell_type": "markdown",
   "metadata": {},
   "source": [
    "### Exploring the data"
   ]
  },
  {
   "cell_type": "code",
   "execution_count": 8,
   "metadata": {},
   "outputs": [
    {
     "name": "stdout",
     "output_type": "stream",
     "text": [
      "<class 'pandas.core.frame.DataFrame'>\n",
      "RangeIndex: 60000 entries, 0 to 59999\n",
      "Columns: 785 entries, label to p784\n",
      "dtypes: int64(785)\n",
      "memory usage: 359.3 MB\n"
     ]
    }
   ],
   "source": [
    "train_data.info()"
   ]
  },
  {
   "cell_type": "code",
   "execution_count": 9,
   "metadata": {},
   "outputs": [
    {
     "name": "stdout",
     "output_type": "stream",
     "text": [
      "<class 'pandas.core.frame.DataFrame'>\n",
      "RangeIndex: 10000 entries, 0 to 9999\n",
      "Columns: 785 entries, label to p784\n",
      "dtypes: int64(785)\n",
      "memory usage: 59.9 MB\n"
     ]
    }
   ],
   "source": [
    "test_data.info()"
   ]
  },
  {
   "cell_type": "code",
   "execution_count": 31,
   "metadata": {},
   "outputs": [
    {
     "data": {
      "text/plain": [
       "<matplotlib.text.Text at 0x128d47240>"
      ]
     },
     "execution_count": 31,
     "metadata": {},
     "output_type": "execute_result"
    },
    {
     "data": {
      "image/png": "[encoded data removed]",
      "text/plain": [
       "<matplotlib.figure.Figure at 0x128d05be0>"
      ]
     },
     "metadata": {},
     "output_type": "display_data"
    }
   ],
   "source": [
    "plt.subplots(figsize = (20,8))\n",
    "plt.subplot(1,2,1)\n",
    "sns.countplot('label',data=train_data).set_title('Digits Count - Train')\n",
    "plt.subplot(1,2,2)\n",
    "sns.countplot('label',data=test_data).set_title('Digits Count - Test')"
   ]
  },
  {
   "cell_type": "code",
   "execution_count": 63,
   "metadata": {},
   "outputs": [
    {
     "data": {
      "image/png": "[encoded data removed]",
      "text/plain": [
       "<matplotlib.figure.Figure at 0x140dc5cc0>"
      ]
     },
     "metadata": {},
     "output_type": "display_data"
    }
   ],
   "source": [
    "# define function that displays the n-th first images of a data set\n",
    "def display_image(n, dataset, cmap):\n",
    "    # create figure\n",
    "    fig = plt.figure(figsize=(15,4))\n",
    "    # loop over the first images of the training set\n",
    "    for i in range(n):\n",
    "        ax = plt.subplot(int(n/5), 5, i+1)\n",
    "        ax.axis('off')\n",
    "        image = dataset.iloc[i, :].values.reshape(28, 28)    \n",
    "        imgplot = plt.imshow(image, cmap=cmap)\n",
    "    plt.show()\n",
    "\n",
    "# we omit the first column of the training set since it contains the image label\n",
    "display_image(15, train_data.drop('label', axis=1), 'binary')"
   ]
  },
  {
   "cell_type": "markdown",
   "metadata": {},
   "source": [
    "### Training the model"
   ]
  },
  {
   "cell_type": "code",
   "execution_count": 51,
   "metadata": {},
   "outputs": [
    {
     "name": "stdout",
     "output_type": "stream",
     "text": [
      "X_train shape: (60000, 784) y_train shape: (60000,)\n"
     ]
    }
   ],
   "source": [
    "# Separating the dataset into label and training features\n",
    "X_train = train_data.iloc[:, 1:] # omit the first column since it contains the label\n",
    "y_train = train_data.iloc[:, 0]  # extract the labels from the dataset (1st column)\n",
    "\n",
    "print('X_train shape:', X_train.shape, 'y_train shape:', y_train.shape)"
   ]
  },
  {
   "cell_type": "code",
   "execution_count": 52,
   "metadata": {},
   "outputs": [
    {
     "data": {
      "text/plain": [
       "MLPClassifier(activation='relu', alpha=0.0001, batch_size='auto', beta_1=0.9,\n",
       "       beta_2=0.999, early_stopping=False, epsilon=1e-08,\n",
       "       hidden_layer_sizes=(500,), learning_rate='constant',\n",
       "       learning_rate_init=0.001, max_iter=200, momentum=0.9,\n",
       "       nesterovs_momentum=True, power_t=0.5, random_state=None,\n",
       "       shuffle=True, solver='lbfgs', tol=0.0001, validation_fraction=0.1,\n",
       "       verbose=False, warm_start=False)"
      ]
     },
     "execution_count": 52,
     "metadata": {},
     "output_type": "execute_result"
    }
   ],
   "source": [
    "# instantiate the MLP classifier\n",
    "clf = MLPClassifier(solver='lbfgs', # we use the L-BFGS optimizer (Limited-memory BFGS)\n",
    "                    activation='relu', # activation function is the rectified linear unit function, returns f(x) = max(0, x)\n",
    "                    hidden_layer_sizes=(500,) # one hidden layer of 500 nodes \n",
    "                     )\n",
    "\n",
    "# fit the model with the training set\n",
    "clf.fit(X_train, y_train)"
   ]
  },
  {
   "cell_type": "markdown",
   "metadata": {},
   "source": [
    "### Predicting on the test data"
   ]
  },
  {
   "cell_type": "code",
   "execution_count": 54,
   "metadata": {},
   "outputs": [
    {
     "name": "stdout",
     "output_type": "stream",
     "text": [
      "Overall model accuracy: 0.9695 \n",
      "\n",
      "------------------------------\n",
      "\n",
      "Classification report:\n",
      "\n",
      "              precision    recall  f1-score   support\n",
      "\n",
      "          0       0.97      0.99      0.98       980\n",
      "          1       0.99      0.99      0.99      1135\n",
      "          2       0.97      0.97      0.97      1032\n",
      "          3       0.96      0.97      0.97      1010\n",
      "          4       0.97      0.96      0.97       982\n",
      "          5       0.97      0.96      0.96       892\n",
      "          6       0.97      0.96      0.97       958\n",
      "          7       0.98      0.97      0.98      1028\n",
      "          8       0.95      0.97      0.96       974\n",
      "          9       0.97      0.95      0.96      1009\n",
      "\n",
      "avg / total       0.97      0.97      0.97     10000\n",
      "\n"
     ]
    }
   ],
   "source": [
    "# Separating the dataset into label and training features\n",
    "X_test = test_data.iloc[:, 1:] # omit the first column since it contains the label\n",
    "y_test = test_data.iloc[:, 0]  # extract the labels from the dataset (1st column)\n",
    "y_pred = clf.predict(X_test)\n",
    "print('Overall model accuracy:', metrics.accuracy_score(y_pred, y_test), '\\n')\n",
    "print('------------------------------\\n')\n",
    "print('Classification report:\\n\\n', classification_report(y_test, y_pred))"
   ]
  },
  {
   "cell_type": "code",
   "execution_count": 55,
   "metadata": {},
   "outputs": [
    {
     "data": {
      "text/plain": [
       "<matplotlib.text.Text at 0x1356baa20>"
      ]
     },
     "execution_count": 55,
     "metadata": {},
     "output_type": "execute_result"
    },
    {
     "data": {
      "image/png": "[encoded data removed]",
      "text/plain": [
       "<matplotlib.figure.Figure at 0x1338adac8>"
      ]
     },
     "metadata": {},
     "output_type": "display_data"
    }
   ],
   "source": [
    "# Let's plot the confusion matrix\n",
    "mat = confusion_matrix(y_pred, y_test)\n",
    "plt.subplots(figsize=(12,8))\n",
    "sns.heatmap(mat.T, square=True, annot=True, fmt='d', cbar=False)\n",
    "plt.xlabel('true label')\n",
    "plt.ylabel('predicted label')"
   ]
  },
  {
   "cell_type": "markdown",
   "metadata": {},
   "source": [
    "We get an overall accuracy of 97% with the Multilayer Perceptron classification. From the confusion matrix, we can clearly see that most of the images have been correctly classified. Let us also check the images in the test data itself against the prediction."
   ]
  },
  {
   "cell_type": "code",
   "execution_count": 60,
   "metadata": {},
   "outputs": [
    {
     "data": {
      "image/png": "[encoded data removed]",
      "text/plain": [
       "<matplotlib.figure.Figure at 0x11e9a15c0>"
      ]
     },
     "metadata": {},
     "output_type": "display_data"
    }
   ],
   "source": [
    "# create figure\n",
    "fig = plt.figure(figsize=(15,4))\n",
    "# loop over the first 15 images of the test set\n",
    "for i in range(15):\n",
    "    ax = plt.subplot(3, 5, i+1)\n",
    "    ax.set_title('Prediction: {}'.format(y_pred[i]))\n",
    "    ax.axis('off')\n",
    "    image = X_test.iloc[i, :].values.reshape(28, 28)\n",
    "    imgplot = plt.imshow(image, cmap='binary')\n",
    "plt.show()"
   ]
  },
  {
   "cell_type": "code",
   "execution_count": null,
   "metadata": {
    "collapsed": true
   },
   "outputs": [],
   "source": []
  }
 ],
 "metadata": {
  "kernelspec": {
   "display_name": "Python 3",
   "language": "python",
   "name": "python3"
  },
  "language_info": {
   "codemirror_mode": {
    "name": "ipython",
    "version": 3
   },
   "file_extension": ".py",
   "mimetype": "text/x-python",
   "name": "python",
   "nbconvert_exporter": "python",
   "pygments_lexer": "ipython3",
   "version": "3.6.1"
  },
  "toc": {
   "nav_menu": {},
   "number_sections": true,
   "sideBar": true,
   "skip_h1_title": true,
   "title_cell": "Table of Contents",
   "title_sidebar": "Contents",
   "toc_cell": true,
   "toc_position": {
    "height": "calc(100% - 180px)",
    "left": "10px",
    "top": "150px",
    "width": "165px"
   },
   "toc_section_display": true,
   "toc_window_display": true
  }
 },
 "nbformat": 4,
 "nbformat_minor": 2
}
